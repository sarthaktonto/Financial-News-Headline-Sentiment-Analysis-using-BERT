{
 "cells": [
  {
   "cell_type": "code",
   "execution_count": 1,
   "id": "8aaf6258",
   "metadata": {},
   "outputs": [
    {
     "name": "stdout",
     "output_type": "stream",
     "text": [
      "Requirement already satisfied: transformers in c:\\users\\sarth\\anaconda3\\lib\\site-packages (4.36.2)\n",
      "Requirement already satisfied: filelock in c:\\users\\sarth\\anaconda3\\lib\\site-packages (from transformers) (3.9.0)\n",
      "Requirement already satisfied: huggingface-hub<1.0,>=0.19.3 in c:\\users\\sarth\\anaconda3\\lib\\site-packages (from transformers) (0.20.1)\n",
      "Requirement already satisfied: numpy>=1.17 in c:\\users\\sarth\\anaconda3\\lib\\site-packages (from transformers) (1.26.3)\n",
      "Requirement already satisfied: packaging>=20.0 in c:\\users\\sarth\\anaconda3\\lib\\site-packages (from transformers) (23.0)\n",
      "Requirement already satisfied: pyyaml>=5.1 in c:\\users\\sarth\\anaconda3\\lib\\site-packages (from transformers) (6.0)\n",
      "Requirement already satisfied: regex!=2019.12.17 in c:\\users\\sarth\\anaconda3\\lib\\site-packages (from transformers) (2022.7.9)\n",
      "Requirement already satisfied: requests in c:\\users\\sarth\\anaconda3\\lib\\site-packages (from transformers) (2.29.0)\n",
      "Requirement already satisfied: tokenizers<0.19,>=0.14 in c:\\users\\sarth\\anaconda3\\lib\\site-packages (from transformers) (0.15.0)\n",
      "Requirement already satisfied: safetensors>=0.3.1 in c:\\users\\sarth\\anaconda3\\lib\\site-packages (from transformers) (0.4.1)\n",
      "Requirement already satisfied: tqdm>=4.27 in c:\\users\\sarth\\anaconda3\\lib\\site-packages (from transformers) (4.65.0)\n",
      "Requirement already satisfied: fsspec>=2023.5.0 in c:\\users\\sarth\\anaconda3\\lib\\site-packages (from huggingface-hub<1.0,>=0.19.3->transformers) (2023.12.2)\n",
      "Requirement already satisfied: typing-extensions>=3.7.4.3 in c:\\users\\sarth\\anaconda3\\lib\\site-packages (from huggingface-hub<1.0,>=0.19.3->transformers) (4.6.3)\n",
      "Requirement already satisfied: colorama in c:\\users\\sarth\\anaconda3\\lib\\site-packages (from tqdm>=4.27->transformers) (0.4.6)\n",
      "Requirement already satisfied: charset-normalizer<4,>=2 in c:\\users\\sarth\\anaconda3\\lib\\site-packages (from requests->transformers) (2.0.4)\n",
      "Requirement already satisfied: idna<4,>=2.5 in c:\\users\\sarth\\anaconda3\\lib\\site-packages (from requests->transformers) (3.4)\n",
      "Requirement already satisfied: urllib3<1.27,>=1.21.1 in c:\\users\\sarth\\anaconda3\\lib\\site-packages (from requests->transformers) (1.26.16)\n",
      "Requirement already satisfied: certifi>=2017.4.17 in c:\\users\\sarth\\anaconda3\\lib\\site-packages (from requests->transformers) (2023.11.17)\n"
     ]
    }
   ],
   "source": [
    "!pip install transformers"
   ]
  },
  {
   "cell_type": "code",
   "execution_count": 2,
   "id": "6bd16910",
   "metadata": {},
   "outputs": [
    {
     "name": "stdout",
     "output_type": "stream",
     "text": [
      "Requirement already satisfied: torch in c:\\users\\sarth\\anaconda3\\lib\\site-packages (2.1.2+cu118)\n",
      "Requirement already satisfied: filelock in c:\\users\\sarth\\anaconda3\\lib\\site-packages (from torch) (3.9.0)\n",
      "Requirement already satisfied: typing-extensions in c:\\users\\sarth\\anaconda3\\lib\\site-packages (from torch) (4.6.3)\n",
      "Requirement already satisfied: sympy in c:\\users\\sarth\\anaconda3\\lib\\site-packages (from torch) (1.11.1)\n",
      "Requirement already satisfied: networkx in c:\\users\\sarth\\anaconda3\\lib\\site-packages (from torch) (2.8.4)\n",
      "Requirement already satisfied: jinja2 in c:\\users\\sarth\\anaconda3\\lib\\site-packages (from torch) (3.1.2)\n",
      "Requirement already satisfied: fsspec in c:\\users\\sarth\\anaconda3\\lib\\site-packages (from torch) (2023.12.2)\n",
      "Requirement already satisfied: MarkupSafe>=2.0 in c:\\users\\sarth\\anaconda3\\lib\\site-packages (from jinja2->torch) (2.1.1)\n",
      "Requirement already satisfied: mpmath>=0.19 in c:\\users\\sarth\\anaconda3\\lib\\site-packages (from sympy->torch) (1.2.1)\n"
     ]
    }
   ],
   "source": [
    "!pip install torch"
   ]
  },
  {
   "cell_type": "code",
   "execution_count": 3,
   "id": "aa811479",
   "metadata": {},
   "outputs": [],
   "source": [
    "from transformers import AutoTokenizer, AutoModelForSequenceClassification\n",
    "import torch"
   ]
  },
  {
   "cell_type": "code",
   "execution_count": 4,
   "id": "72fcdf8c",
   "metadata": {},
   "outputs": [
    {
     "name": "stdout",
     "output_type": "stream",
     "text": [
      "Looking in indexes: https://download.pytorch.org/whl/cu118\n",
      "Requirement already satisfied: torch in c:\\users\\sarth\\anaconda3\\lib\\site-packages (2.1.2+cu118)\n",
      "Requirement already satisfied: torchvision in c:\\users\\sarth\\anaconda3\\lib\\site-packages (0.16.2+cu118)\n",
      "Requirement already satisfied: torchaudio in c:\\users\\sarth\\anaconda3\\lib\\site-packages (2.1.2+cu118)\n",
      "Requirement already satisfied: filelock in c:\\users\\sarth\\anaconda3\\lib\\site-packages (from torch) (3.9.0)\n",
      "Requirement already satisfied: typing-extensions in c:\\users\\sarth\\anaconda3\\lib\\site-packages (from torch) (4.6.3)\n",
      "Requirement already satisfied: sympy in c:\\users\\sarth\\anaconda3\\lib\\site-packages (from torch) (1.11.1)\n",
      "Requirement already satisfied: networkx in c:\\users\\sarth\\anaconda3\\lib\\site-packages (from torch) (2.8.4)\n",
      "Requirement already satisfied: jinja2 in c:\\users\\sarth\\anaconda3\\lib\\site-packages (from torch) (3.1.2)\n",
      "Requirement already satisfied: fsspec in c:\\users\\sarth\\anaconda3\\lib\\site-packages (from torch) (2023.12.2)\n",
      "Requirement already satisfied: numpy in c:\\users\\sarth\\anaconda3\\lib\\site-packages (from torchvision) (1.26.3)\n",
      "Requirement already satisfied: requests in c:\\users\\sarth\\anaconda3\\lib\\site-packages (from torchvision) (2.29.0)\n",
      "Requirement already satisfied: pillow!=8.3.*,>=5.3.0 in c:\\users\\sarth\\anaconda3\\lib\\site-packages (from torchvision) (9.4.0)\n",
      "Requirement already satisfied: MarkupSafe>=2.0 in c:\\users\\sarth\\anaconda3\\lib\\site-packages (from jinja2->torch) (2.1.1)\n",
      "Requirement already satisfied: charset-normalizer<4,>=2 in c:\\users\\sarth\\anaconda3\\lib\\site-packages (from requests->torchvision) (2.0.4)\n",
      "Requirement already satisfied: idna<4,>=2.5 in c:\\users\\sarth\\anaconda3\\lib\\site-packages (from requests->torchvision) (3.4)\n",
      "Requirement already satisfied: urllib3<1.27,>=1.21.1 in c:\\users\\sarth\\anaconda3\\lib\\site-packages (from requests->torchvision) (1.26.16)\n",
      "Requirement already satisfied: certifi>=2017.4.17 in c:\\users\\sarth\\anaconda3\\lib\\site-packages (from requests->torchvision) (2023.11.17)\n",
      "Requirement already satisfied: mpmath>=0.19 in c:\\users\\sarth\\anaconda3\\lib\\site-packages (from sympy->torch) (1.2.1)\n",
      "Note: you may need to restart the kernel to use updated packages.\n"
     ]
    }
   ],
   "source": [
    "pip install torch torchvision torchaudio --index-url https://download.pytorch.org/whl/cu118"
   ]
  },
  {
   "cell_type": "code",
   "execution_count": 5,
   "id": "138effc0",
   "metadata": {},
   "outputs": [],
   "source": [
    "tokenizer = AutoTokenizer.from_pretrained('nlptown/bert-base-multilingual-uncased-sentiment')\n",
    "\n",
    "model = AutoModelForSequenceClassification.from_pretrained('nlptown/bert-base-multilingual-uncased-sentiment')"
   ]
  },
  {
   "cell_type": "code",
   "execution_count": 6,
   "id": "855d8e63",
   "metadata": {},
   "outputs": [],
   "source": [
    "#Encode\n",
    "tokens = tokenizer.encode('It was good but couldve been better. Great', return_tensors='pt')\n",
    "result = model(tokens)"
   ]
  },
  {
   "cell_type": "code",
   "execution_count": 7,
   "id": "d1cad0df",
   "metadata": {},
   "outputs": [
    {
     "data": {
      "text/plain": [
       "4"
      ]
     },
     "execution_count": 7,
     "metadata": {},
     "output_type": "execute_result"
    }
   ],
   "source": [
    "#Sentiment\n",
    "result.logits\n",
    "int(torch.argmax(result.logits))+1"
   ]
  },
  {
   "cell_type": "code",
   "execution_count": 8,
   "id": "c9729eed",
   "metadata": {},
   "outputs": [],
   "source": [
    "import numpy as np\n",
    "import pandas as pd\n",
    "import matplotlib.pyplot as plt"
   ]
  },
  {
   "cell_type": "code",
   "execution_count": 9,
   "id": "8bf429fc",
   "metadata": {},
   "outputs": [],
   "source": [
    "cnbc_df =  pd.read_csv(r\"C:\\sparkcourse\\cnbc_headlines.csv\", encoding='ISO-8859-1')\n",
    "guardian_df =  pd.read_csv(r\"C:\\sparkcourse\\guardian_headlines.csv\", encoding='ISO-8859-1')\n",
    "reuters_df =  pd.read_csv(r\"C:\\sparkcourse\\reuters_headlines.csv\", encoding='ISO-8859-1')"
   ]
  },
  {
   "cell_type": "code",
   "execution_count": 10,
   "id": "a883dbf2",
   "metadata": {},
   "outputs": [
    {
     "data": {
      "text/plain": [
       "Index(['Headlines', 'Time', 'Description'], dtype='object')"
      ]
     },
     "execution_count": 10,
     "metadata": {},
     "output_type": "execute_result"
    }
   ],
   "source": [
    "cnbc_df.columns"
   ]
  },
  {
   "cell_type": "code",
   "execution_count": 11,
   "id": "9c974daf",
   "metadata": {},
   "outputs": [
    {
     "data": {
      "text/html": [
       "<div>\n",
       "<style scoped>\n",
       "    .dataframe tbody tr th:only-of-type {\n",
       "        vertical-align: middle;\n",
       "    }\n",
       "\n",
       "    .dataframe tbody tr th {\n",
       "        vertical-align: top;\n",
       "    }\n",
       "\n",
       "    .dataframe thead th {\n",
       "        text-align: right;\n",
       "    }\n",
       "</style>\n",
       "<table border=\"1\" class=\"dataframe\">\n",
       "  <thead>\n",
       "    <tr style=\"text-align: right;\">\n",
       "      <th></th>\n",
       "      <th>Headlines</th>\n",
       "      <th>Time</th>\n",
       "      <th>Description</th>\n",
       "    </tr>\n",
       "  </thead>\n",
       "  <tbody>\n",
       "    <tr>\n",
       "      <th>0</th>\n",
       "      <td>Jim Cramer: A better way to invest in the Covi...</td>\n",
       "      <td>7:51  PM ET Fri, 17 July 2020</td>\n",
       "      <td>\"Mad Money\" host Jim Cramer recommended buying...</td>\n",
       "    </tr>\n",
       "    <tr>\n",
       "      <th>1</th>\n",
       "      <td>Cramer's lightning round: I would own Teradyne</td>\n",
       "      <td>7:33  PM ET Fri, 17 July 2020</td>\n",
       "      <td>\"Mad Money\" host Jim Cramer rings the lightnin...</td>\n",
       "    </tr>\n",
       "    <tr>\n",
       "      <th>2</th>\n",
       "      <td>NaN</td>\n",
       "      <td>NaN</td>\n",
       "      <td>NaN</td>\n",
       "    </tr>\n",
       "    <tr>\n",
       "      <th>3</th>\n",
       "      <td>Cramer's week ahead: Big week for earnings, ev...</td>\n",
       "      <td>7:25  PM ET Fri, 17 July 2020</td>\n",
       "      <td>\"We'll pay more for the earnings of the non-Co...</td>\n",
       "    </tr>\n",
       "    <tr>\n",
       "      <th>4</th>\n",
       "      <td>IQ Capital CEO Keith Bliss says tech and healt...</td>\n",
       "      <td>4:24  PM ET Fri, 17 July 2020</td>\n",
       "      <td>Keith Bliss, IQ Capital CEO, joins \"Closing Be...</td>\n",
       "    </tr>\n",
       "    <tr>\n",
       "      <th>...</th>\n",
       "      <td>...</td>\n",
       "      <td>...</td>\n",
       "      <td>...</td>\n",
       "    </tr>\n",
       "    <tr>\n",
       "      <th>2431</th>\n",
       "      <td>NaN</td>\n",
       "      <td>NaN</td>\n",
       "      <td>NaN</td>\n",
       "    </tr>\n",
       "    <tr>\n",
       "      <th>2432</th>\n",
       "      <td>NaN</td>\n",
       "      <td>NaN</td>\n",
       "      <td>NaN</td>\n",
       "    </tr>\n",
       "    <tr>\n",
       "      <th>2433</th>\n",
       "      <td>NaN</td>\n",
       "      <td>NaN</td>\n",
       "      <td>NaN</td>\n",
       "    </tr>\n",
       "    <tr>\n",
       "      <th>2434</th>\n",
       "      <td>NaN</td>\n",
       "      <td>NaN</td>\n",
       "      <td>NaN</td>\n",
       "    </tr>\n",
       "    <tr>\n",
       "      <th>2435</th>\n",
       "      <td>NaN</td>\n",
       "      <td>NaN</td>\n",
       "      <td>NaN</td>\n",
       "    </tr>\n",
       "  </tbody>\n",
       "</table>\n",
       "<p>2436 rows × 3 columns</p>\n",
       "</div>"
      ],
      "text/plain": [
       "                                              Headlines  \\\n",
       "0     Jim Cramer: A better way to invest in the Covi...   \n",
       "1        Cramer's lightning round: I would own Teradyne   \n",
       "2                                                   NaN   \n",
       "3     Cramer's week ahead: Big week for earnings, ev...   \n",
       "4     IQ Capital CEO Keith Bliss says tech and healt...   \n",
       "...                                                 ...   \n",
       "2431                                                NaN   \n",
       "2432                                                NaN   \n",
       "2433                                                NaN   \n",
       "2434                                                NaN   \n",
       "2435                                                NaN   \n",
       "\n",
       "                                Time  \\\n",
       "0      7:51  PM ET Fri, 17 July 2020   \n",
       "1      7:33  PM ET Fri, 17 July 2020   \n",
       "2                                NaN   \n",
       "3      7:25  PM ET Fri, 17 July 2020   \n",
       "4      4:24  PM ET Fri, 17 July 2020   \n",
       "...                              ...   \n",
       "2431                             NaN   \n",
       "2432                             NaN   \n",
       "2433                             NaN   \n",
       "2434                             NaN   \n",
       "2435                             NaN   \n",
       "\n",
       "                                            Description  \n",
       "0     \"Mad Money\" host Jim Cramer recommended buying...  \n",
       "1     \"Mad Money\" host Jim Cramer rings the lightnin...  \n",
       "2                                                   NaN  \n",
       "3     \"We'll pay more for the earnings of the non-Co...  \n",
       "4     Keith Bliss, IQ Capital CEO, joins \"Closing Be...  \n",
       "...                                                 ...  \n",
       "2431                                                NaN  \n",
       "2432                                                NaN  \n",
       "2433                                                NaN  \n",
       "2434                                                NaN  \n",
       "2435                                                NaN  \n",
       "\n",
       "[2436 rows x 3 columns]"
      ]
     },
     "execution_count": 11,
     "metadata": {},
     "output_type": "execute_result"
    }
   ],
   "source": [
    "cnbc_df"
   ]
  },
  {
   "cell_type": "code",
   "execution_count": 12,
   "id": "0d67bd3c",
   "metadata": {},
   "outputs": [],
   "source": [
    "# we are not using Description column because guardian doesn't have one\n",
    "cnbc_df = cnbc_df.drop(['Description'] , axis = 1)"
   ]
  },
  {
   "cell_type": "code",
   "execution_count": 13,
   "id": "e799e130",
   "metadata": {},
   "outputs": [
    {
     "name": "stdout",
     "output_type": "stream",
     "text": [
      "<class 'pandas.core.frame.DataFrame'>\n",
      "RangeIndex: 2436 entries, 0 to 2435\n",
      "Data columns (total 2 columns):\n",
      " #   Column     Non-Null Count  Dtype \n",
      "---  ------     --------------  ----- \n",
      " 0   Headlines  453 non-null    object\n",
      " 1   Time       453 non-null    object\n",
      "dtypes: object(2)\n",
      "memory usage: 38.2+ KB\n"
     ]
    }
   ],
   "source": [
    "cnbc_df.info()"
   ]
  },
  {
   "cell_type": "code",
   "execution_count": 14,
   "id": "42646fa7",
   "metadata": {},
   "outputs": [
    {
     "data": {
      "text/plain": [
       "Headlines    1983\n",
       "Time         1983\n",
       "dtype: int64"
      ]
     },
     "execution_count": 14,
     "metadata": {},
     "output_type": "execute_result"
    }
   ],
   "source": [
    "cnbc_df.isna().sum()"
   ]
  },
  {
   "cell_type": "code",
   "execution_count": 15,
   "id": "8223a89a",
   "metadata": {},
   "outputs": [],
   "source": [
    "cnbc_df.dropna(inplace=True)"
   ]
  },
  {
   "cell_type": "code",
   "execution_count": 16,
   "id": "798096e6",
   "metadata": {},
   "outputs": [
    {
     "data": {
      "text/plain": [
       "<bound method NDFrame.head of             Time                                          Headlines\n",
       "0      18-Jul-20   Johnson is asking Santa for a Christmas recovery\n",
       "1      18-Jul-20  I now fear the worst: four grim tales of wor...\n",
       "2      18-Jul-20  Five key areas Sunak must tackle to serve up e...\n",
       "3      18-Jul-20  Covid-19 leaves firms fatally ill-prepared f...\n",
       "4      18-Jul-20  The Week in Patriarchy  \\n\\n\\n  Bacardi's 'lad...\n",
       "...          ...                                                ...\n",
       "17795        NaN                                                NaN\n",
       "17796        NaN                                                NaN\n",
       "17797        NaN                                                NaN\n",
       "17798        NaN                                                NaN\n",
       "17799        NaN                                                NaN\n",
       "\n",
       "[17800 rows x 2 columns]>"
      ]
     },
     "execution_count": 16,
     "metadata": {},
     "output_type": "execute_result"
    }
   ],
   "source": [
    "guardian_df.head"
   ]
  },
  {
   "cell_type": "code",
   "execution_count": 17,
   "id": "7b22b8c8",
   "metadata": {},
   "outputs": [
    {
     "data": {
      "text/plain": [
       "Time                                                18-Jul-20\n",
       "Headlines    Johnson is asking Santa for a Christmas recovery\n",
       "Name: 0, dtype: object"
      ]
     },
     "execution_count": 17,
     "metadata": {},
     "output_type": "execute_result"
    }
   ],
   "source": [
    "guardian_df.iloc[0]"
   ]
  },
  {
   "cell_type": "code",
   "execution_count": 18,
   "id": "ff6d392f",
   "metadata": {},
   "outputs": [
    {
     "data": {
      "text/plain": [
       "Time         17301\n",
       "Headlines    17301\n",
       "dtype: int64"
      ]
     },
     "execution_count": 18,
     "metadata": {},
     "output_type": "execute_result"
    }
   ],
   "source": [
    "guardian_df.isnull().sum()"
   ]
  },
  {
   "cell_type": "code",
   "execution_count": 19,
   "id": "4e68c055",
   "metadata": {},
   "outputs": [
    {
     "data": {
      "text/plain": [
       "<bound method NDFrame.head of                                              Headlines         Time  \\\n",
       "0    TikTok considers London and other locations fo...  Jul 18 2020   \n",
       "1    Disney cuts ad spending on Facebook amid growi...  Jul 18 2020   \n",
       "2    Trail of missing Wirecard executive leads to B...  Jul 18 2020   \n",
       "3    Twitter says attackers downloaded data from up...  Jul 18 2020   \n",
       "4    U.S. Republicans seek liability protections as...  Jul 17 2020   \n",
       "..                                                 ...          ...   \n",
       "494  Mexico's Aeromexico sees passenger traffic dro...  Jul 09 2020   \n",
       "495           The man who led Wirecard into insolvency  Jul 09 2020   \n",
       "496  Alstom offers French factory sale to clinch Bo...  Jul 09 2020   \n",
       "497  Malaysia's AirAsia seeks nearly $500 million i...  Jul 09 2020   \n",
       "498           British retailer Boots to cut 4,000 jobs  Jul 09 2020   \n",
       "\n",
       "                                           Description  \n",
       "0    TikTok has been in discussions with the UK gov...  \n",
       "1    Walt Disney  has become the latest company to ...  \n",
       "2    Former Wirecard  chief operating officer Jan M...  \n",
       "3    Twitter Inc said on Saturday that hackers were...  \n",
       "4    A battle in the U.S. Congress over a new coron...  \n",
       "..                                                 ...  \n",
       "494  Mexican carrier Aeromexico said on Thursday th...  \n",
       "495  On the night of June 18, Wirecard AGs new com...  \n",
       "496  France's TGV high-speed train maker Alstom  on...  \n",
       "497  Malaysia's AirAsia Group Bhd is looking to rai...  \n",
       "498  Health and beauty retailer Boots, one of the b...  \n",
       "\n",
       "[499 rows x 3 columns]>"
      ]
     },
     "execution_count": 19,
     "metadata": {},
     "output_type": "execute_result"
    }
   ],
   "source": [
    "reuters_df.head"
   ]
  },
  {
   "cell_type": "code",
   "execution_count": 20,
   "id": "3a59ae9c",
   "metadata": {},
   "outputs": [
    {
     "data": {
      "text/plain": [
       "Headlines      TikTok considers London and other locations fo...\n",
       "Time                                                 Jul 18 2020\n",
       "Description    TikTok has been in discussions with the UK gov...\n",
       "Name: 0, dtype: object"
      ]
     },
     "execution_count": 20,
     "metadata": {},
     "output_type": "execute_result"
    }
   ],
   "source": [
    "reuters_df.iloc[0]"
   ]
  },
  {
   "cell_type": "code",
   "execution_count": 21,
   "id": "cf69f452",
   "metadata": {},
   "outputs": [
    {
     "data": {
      "text/plain": [
       "Headlines      0\n",
       "Time           0\n",
       "Description    0\n",
       "dtype: int64"
      ]
     },
     "execution_count": 21,
     "metadata": {},
     "output_type": "execute_result"
    }
   ],
   "source": [
    "reuters_df.isnull().sum()"
   ]
  },
  {
   "cell_type": "code",
   "execution_count": 22,
   "id": "528c0ae9",
   "metadata": {},
   "outputs": [],
   "source": [
    "reuters_df = reuters_df.drop(['Description'] , axis = 1)"
   ]
  },
  {
   "cell_type": "code",
   "execution_count": 23,
   "id": "e3ed8059",
   "metadata": {},
   "outputs": [],
   "source": [
    "# Function that takes in news and outputs sentiment\n",
    "def sentiment_score(news):\n",
    "    tokens = tokenizer.encode(news, return_tensors='pt')\n",
    "    result = model(tokens)\n",
    "    return int(torch.argmax(result.logits))+1"
   ]
  },
  {
   "cell_type": "code",
   "execution_count": 24,
   "id": "5432867d",
   "metadata": {},
   "outputs": [],
   "source": [
    "# Send each news outlet's headlines through the BERT Model and store the Sentiment output\n",
    "cnbc_df['Sentiment'] = cnbc_df['Headlines'].apply(lambda x: sentiment_score(x[:]) if pd.notnull(x) else np.nan)\n",
    "guardian_df['Sentiment'] = guardian_df['Headlines'].apply(lambda x: sentiment_score(x[:]) if pd.notnull(x) else np.nan)\n",
    "reuters_df['Sentiment'] = reuters_df['Headlines'].apply(lambda x: sentiment_score(x[:]) if pd.notnull(x) else np.nan)"
   ]
  },
  {
   "cell_type": "code",
   "execution_count": 25,
   "id": "174f9ed4",
   "metadata": {},
   "outputs": [
    {
     "data": {
      "text/html": [
       "<div>\n",
       "<style scoped>\n",
       "    .dataframe tbody tr th:only-of-type {\n",
       "        vertical-align: middle;\n",
       "    }\n",
       "\n",
       "    .dataframe tbody tr th {\n",
       "        vertical-align: top;\n",
       "    }\n",
       "\n",
       "    .dataframe thead th {\n",
       "        text-align: right;\n",
       "    }\n",
       "</style>\n",
       "<table border=\"1\" class=\"dataframe\">\n",
       "  <thead>\n",
       "    <tr style=\"text-align: right;\">\n",
       "      <th></th>\n",
       "      <th>Headlines</th>\n",
       "      <th>Time</th>\n",
       "      <th>Sentiment</th>\n",
       "    </tr>\n",
       "  </thead>\n",
       "  <tbody>\n",
       "    <tr>\n",
       "      <th>0</th>\n",
       "      <td>Jim Cramer: A better way to invest in the Covi...</td>\n",
       "      <td>7:51  PM ET Fri, 17 July 2020</td>\n",
       "      <td>5</td>\n",
       "    </tr>\n",
       "    <tr>\n",
       "      <th>1</th>\n",
       "      <td>Cramer's lightning round: I would own Teradyne</td>\n",
       "      <td>7:33  PM ET Fri, 17 July 2020</td>\n",
       "      <td>4</td>\n",
       "    </tr>\n",
       "    <tr>\n",
       "      <th>3</th>\n",
       "      <td>Cramer's week ahead: Big week for earnings, ev...</td>\n",
       "      <td>7:25  PM ET Fri, 17 July 2020</td>\n",
       "      <td>5</td>\n",
       "    </tr>\n",
       "    <tr>\n",
       "      <th>4</th>\n",
       "      <td>IQ Capital CEO Keith Bliss says tech and healt...</td>\n",
       "      <td>4:24  PM ET Fri, 17 July 2020</td>\n",
       "      <td>5</td>\n",
       "    </tr>\n",
       "    <tr>\n",
       "      <th>5</th>\n",
       "      <td>Wall Street delivered the 'kind of pullback I'...</td>\n",
       "      <td>7:36  PM ET Thu, 16 July 2020</td>\n",
       "      <td>4</td>\n",
       "    </tr>\n",
       "    <tr>\n",
       "      <th>...</th>\n",
       "      <td>...</td>\n",
       "      <td>...</td>\n",
       "      <td>...</td>\n",
       "    </tr>\n",
       "    <tr>\n",
       "      <th>494</th>\n",
       "      <td>'The market is anything but mercurial or arbit...</td>\n",
       "      <td>7:18  PM ET Thu,  6 Feb 2020</td>\n",
       "      <td>1</td>\n",
       "    </tr>\n",
       "    <tr>\n",
       "      <th>495</th>\n",
       "      <td>McCormick CEO says it's 'hard to know the impa...</td>\n",
       "      <td>9:22  PM ET Thu,  6 Feb 2020</td>\n",
       "      <td>2</td>\n",
       "    </tr>\n",
       "    <tr>\n",
       "      <th>496</th>\n",
       "      <td>Cigna CEO on Express Scripts deal: 'We're prov...</td>\n",
       "      <td>6:40  PM ET Thu,  6 Feb 2020</td>\n",
       "      <td>4</td>\n",
       "    </tr>\n",
       "    <tr>\n",
       "      <th>497</th>\n",
       "      <td>Yen, Swiss franc fall for 4th day as investors...</td>\n",
       "      <td>2:41  PM ET Thu,  6 Feb 2020</td>\n",
       "      <td>1</td>\n",
       "    </tr>\n",
       "    <tr>\n",
       "      <th>498</th>\n",
       "      <td>Everything Jim Cramer said on 'Mad Money,' inc...</td>\n",
       "      <td>7:43  PM ET Wed,  5 Feb 2020</td>\n",
       "      <td>5</td>\n",
       "    </tr>\n",
       "  </tbody>\n",
       "</table>\n",
       "<p>453 rows × 3 columns</p>\n",
       "</div>"
      ],
      "text/plain": [
       "                                             Headlines  \\\n",
       "0    Jim Cramer: A better way to invest in the Covi...   \n",
       "1       Cramer's lightning round: I would own Teradyne   \n",
       "3    Cramer's week ahead: Big week for earnings, ev...   \n",
       "4    IQ Capital CEO Keith Bliss says tech and healt...   \n",
       "5    Wall Street delivered the 'kind of pullback I'...   \n",
       "..                                                 ...   \n",
       "494  'The market is anything but mercurial or arbit...   \n",
       "495  McCormick CEO says it's 'hard to know the impa...   \n",
       "496  Cigna CEO on Express Scripts deal: 'We're prov...   \n",
       "497  Yen, Swiss franc fall for 4th day as investors...   \n",
       "498  Everything Jim Cramer said on 'Mad Money,' inc...   \n",
       "\n",
       "                               Time  Sentiment  \n",
       "0     7:51  PM ET Fri, 17 July 2020          5  \n",
       "1     7:33  PM ET Fri, 17 July 2020          4  \n",
       "3     7:25  PM ET Fri, 17 July 2020          5  \n",
       "4     4:24  PM ET Fri, 17 July 2020          5  \n",
       "5     7:36  PM ET Thu, 16 July 2020          4  \n",
       "..                              ...        ...  \n",
       "494    7:18  PM ET Thu,  6 Feb 2020          1  \n",
       "495    9:22  PM ET Thu,  6 Feb 2020          2  \n",
       "496    6:40  PM ET Thu,  6 Feb 2020          4  \n",
       "497    2:41  PM ET Thu,  6 Feb 2020          1  \n",
       "498    7:43  PM ET Wed,  5 Feb 2020          5  \n",
       "\n",
       "[453 rows x 3 columns]"
      ]
     },
     "execution_count": 25,
     "metadata": {},
     "output_type": "execute_result"
    }
   ],
   "source": [
    "cnbc_df"
   ]
  },
  {
   "cell_type": "code",
   "execution_count": 26,
   "id": "49627c28",
   "metadata": {},
   "outputs": [
    {
     "data": {
      "text/html": [
       "<div>\n",
       "<style scoped>\n",
       "    .dataframe tbody tr th:only-of-type {\n",
       "        vertical-align: middle;\n",
       "    }\n",
       "\n",
       "    .dataframe tbody tr th {\n",
       "        vertical-align: top;\n",
       "    }\n",
       "\n",
       "    .dataframe thead th {\n",
       "        text-align: right;\n",
       "    }\n",
       "</style>\n",
       "<table border=\"1\" class=\"dataframe\">\n",
       "  <thead>\n",
       "    <tr style=\"text-align: right;\">\n",
       "      <th></th>\n",
       "      <th>Time</th>\n",
       "      <th>Headlines</th>\n",
       "      <th>Sentiment</th>\n",
       "    </tr>\n",
       "  </thead>\n",
       "  <tbody>\n",
       "    <tr>\n",
       "      <th>0</th>\n",
       "      <td>18-Jul-20</td>\n",
       "      <td>Johnson is asking Santa for a Christmas recovery</td>\n",
       "      <td>4.0</td>\n",
       "    </tr>\n",
       "    <tr>\n",
       "      <th>1</th>\n",
       "      <td>18-Jul-20</td>\n",
       "      <td>I now fear the worst: four grim tales of wor...</td>\n",
       "      <td>1.0</td>\n",
       "    </tr>\n",
       "    <tr>\n",
       "      <th>2</th>\n",
       "      <td>18-Jul-20</td>\n",
       "      <td>Five key areas Sunak must tackle to serve up e...</td>\n",
       "      <td>5.0</td>\n",
       "    </tr>\n",
       "    <tr>\n",
       "      <th>3</th>\n",
       "      <td>18-Jul-20</td>\n",
       "      <td>Covid-19 leaves firms fatally ill-prepared f...</td>\n",
       "      <td>1.0</td>\n",
       "    </tr>\n",
       "    <tr>\n",
       "      <th>4</th>\n",
       "      <td>18-Jul-20</td>\n",
       "      <td>The Week in Patriarchy  \\n\\n\\n  Bacardi's 'lad...</td>\n",
       "      <td>5.0</td>\n",
       "    </tr>\n",
       "    <tr>\n",
       "      <th>...</th>\n",
       "      <td>...</td>\n",
       "      <td>...</td>\n",
       "      <td>...</td>\n",
       "    </tr>\n",
       "    <tr>\n",
       "      <th>17795</th>\n",
       "      <td>NaN</td>\n",
       "      <td>NaN</td>\n",
       "      <td>NaN</td>\n",
       "    </tr>\n",
       "    <tr>\n",
       "      <th>17796</th>\n",
       "      <td>NaN</td>\n",
       "      <td>NaN</td>\n",
       "      <td>NaN</td>\n",
       "    </tr>\n",
       "    <tr>\n",
       "      <th>17797</th>\n",
       "      <td>NaN</td>\n",
       "      <td>NaN</td>\n",
       "      <td>NaN</td>\n",
       "    </tr>\n",
       "    <tr>\n",
       "      <th>17798</th>\n",
       "      <td>NaN</td>\n",
       "      <td>NaN</td>\n",
       "      <td>NaN</td>\n",
       "    </tr>\n",
       "    <tr>\n",
       "      <th>17799</th>\n",
       "      <td>NaN</td>\n",
       "      <td>NaN</td>\n",
       "      <td>NaN</td>\n",
       "    </tr>\n",
       "  </tbody>\n",
       "</table>\n",
       "<p>17800 rows × 3 columns</p>\n",
       "</div>"
      ],
      "text/plain": [
       "            Time                                          Headlines  Sentiment\n",
       "0      18-Jul-20   Johnson is asking Santa for a Christmas recovery        4.0\n",
       "1      18-Jul-20  I now fear the worst: four grim tales of wor...        1.0\n",
       "2      18-Jul-20  Five key areas Sunak must tackle to serve up e...        5.0\n",
       "3      18-Jul-20  Covid-19 leaves firms fatally ill-prepared f...        1.0\n",
       "4      18-Jul-20  The Week in Patriarchy  \\n\\n\\n  Bacardi's 'lad...        5.0\n",
       "...          ...                                                ...        ...\n",
       "17795        NaN                                                NaN        NaN\n",
       "17796        NaN                                                NaN        NaN\n",
       "17797        NaN                                                NaN        NaN\n",
       "17798        NaN                                                NaN        NaN\n",
       "17799        NaN                                                NaN        NaN\n",
       "\n",
       "[17800 rows x 3 columns]"
      ]
     },
     "execution_count": 26,
     "metadata": {},
     "output_type": "execute_result"
    }
   ],
   "source": [
    "guardian_df"
   ]
  },
  {
   "cell_type": "code",
   "execution_count": 27,
   "id": "1f3846cd",
   "metadata": {},
   "outputs": [
    {
     "data": {
      "text/html": [
       "<div>\n",
       "<style scoped>\n",
       "    .dataframe tbody tr th:only-of-type {\n",
       "        vertical-align: middle;\n",
       "    }\n",
       "\n",
       "    .dataframe tbody tr th {\n",
       "        vertical-align: top;\n",
       "    }\n",
       "\n",
       "    .dataframe thead th {\n",
       "        text-align: right;\n",
       "    }\n",
       "</style>\n",
       "<table border=\"1\" class=\"dataframe\">\n",
       "  <thead>\n",
       "    <tr style=\"text-align: right;\">\n",
       "      <th></th>\n",
       "      <th>Headlines</th>\n",
       "      <th>Time</th>\n",
       "      <th>Sentiment</th>\n",
       "    </tr>\n",
       "  </thead>\n",
       "  <tbody>\n",
       "    <tr>\n",
       "      <th>0</th>\n",
       "      <td>TikTok considers London and other locations fo...</td>\n",
       "      <td>Jul 18 2020</td>\n",
       "      <td>3</td>\n",
       "    </tr>\n",
       "    <tr>\n",
       "      <th>1</th>\n",
       "      <td>Disney cuts ad spending on Facebook amid growi...</td>\n",
       "      <td>Jul 18 2020</td>\n",
       "      <td>1</td>\n",
       "    </tr>\n",
       "    <tr>\n",
       "      <th>2</th>\n",
       "      <td>Trail of missing Wirecard executive leads to B...</td>\n",
       "      <td>Jul 18 2020</td>\n",
       "      <td>1</td>\n",
       "    </tr>\n",
       "    <tr>\n",
       "      <th>3</th>\n",
       "      <td>Twitter says attackers downloaded data from up...</td>\n",
       "      <td>Jul 18 2020</td>\n",
       "      <td>1</td>\n",
       "    </tr>\n",
       "    <tr>\n",
       "      <th>4</th>\n",
       "      <td>U.S. Republicans seek liability protections as...</td>\n",
       "      <td>Jul 17 2020</td>\n",
       "      <td>1</td>\n",
       "    </tr>\n",
       "    <tr>\n",
       "      <th>...</th>\n",
       "      <td>...</td>\n",
       "      <td>...</td>\n",
       "      <td>...</td>\n",
       "    </tr>\n",
       "    <tr>\n",
       "      <th>494</th>\n",
       "      <td>Mexico's Aeromexico sees passenger traffic dro...</td>\n",
       "      <td>Jul 09 2020</td>\n",
       "      <td>1</td>\n",
       "    </tr>\n",
       "    <tr>\n",
       "      <th>495</th>\n",
       "      <td>The man who led Wirecard into insolvency</td>\n",
       "      <td>Jul 09 2020</td>\n",
       "      <td>1</td>\n",
       "    </tr>\n",
       "    <tr>\n",
       "      <th>496</th>\n",
       "      <td>Alstom offers French factory sale to clinch Bo...</td>\n",
       "      <td>Jul 09 2020</td>\n",
       "      <td>3</td>\n",
       "    </tr>\n",
       "    <tr>\n",
       "      <th>497</th>\n",
       "      <td>Malaysia's AirAsia seeks nearly $500 million i...</td>\n",
       "      <td>Jul 09 2020</td>\n",
       "      <td>1</td>\n",
       "    </tr>\n",
       "    <tr>\n",
       "      <th>498</th>\n",
       "      <td>British retailer Boots to cut 4,000 jobs</td>\n",
       "      <td>Jul 09 2020</td>\n",
       "      <td>5</td>\n",
       "    </tr>\n",
       "  </tbody>\n",
       "</table>\n",
       "<p>499 rows × 3 columns</p>\n",
       "</div>"
      ],
      "text/plain": [
       "                                             Headlines         Time  Sentiment\n",
       "0    TikTok considers London and other locations fo...  Jul 18 2020          3\n",
       "1    Disney cuts ad spending on Facebook amid growi...  Jul 18 2020          1\n",
       "2    Trail of missing Wirecard executive leads to B...  Jul 18 2020          1\n",
       "3    Twitter says attackers downloaded data from up...  Jul 18 2020          1\n",
       "4    U.S. Republicans seek liability protections as...  Jul 17 2020          1\n",
       "..                                                 ...          ...        ...\n",
       "494  Mexico's Aeromexico sees passenger traffic dro...  Jul 09 2020          1\n",
       "495           The man who led Wirecard into insolvency  Jul 09 2020          1\n",
       "496  Alstom offers French factory sale to clinch Bo...  Jul 09 2020          3\n",
       "497  Malaysia's AirAsia seeks nearly $500 million i...  Jul 09 2020          1\n",
       "498           British retailer Boots to cut 4,000 jobs  Jul 09 2020          5\n",
       "\n",
       "[499 rows x 3 columns]"
      ]
     },
     "execution_count": 27,
     "metadata": {},
     "output_type": "execute_result"
    }
   ],
   "source": [
    "reuters_df"
   ]
  },
  {
   "cell_type": "code",
   "execution_count": 28,
   "id": "94ed04a5",
   "metadata": {},
   "outputs": [
    {
     "name": "stdout",
     "output_type": "stream",
     "text": [
      "Requirement already satisfied: numpy in c:\\users\\sarth\\anaconda3\\lib\\site-packages (1.26.3)\n",
      "Note: you may need to restart the kernel to use updated packages.\n"
     ]
    }
   ],
   "source": [
    "pip install -U numpy"
   ]
  },
  {
   "cell_type": "code",
   "execution_count": 29,
   "id": "19a93911",
   "metadata": {},
   "outputs": [],
   "source": [
    "def plot_pie_sentiment(df, name):\n",
    "    sentiment_counts = df['Sentiment'].value_counts()\n",
    "    \n",
    "    # Plot the pie chart\n",
    "    plt.figure(figsize=(8, 8))\n",
    "    plt.pie(sentiment_counts, labels=sentiment_counts.index, autopct='%1.1f%%', startangle=140)\n",
    "    \n",
    "    # Add a legend\n",
    "    plt.legend(title='Sentiments', labels=sentiment_counts.index, loc='upper left')\n",
    "    \n",
    "    plt.title('Distribution of Sentiments in ' + name + ' Dataset')\n",
    "    plt.axis('equal')  # Equal aspect ratio ensures that pie is drawn as a circle.\n",
    "    \n",
    "    plt.show()"
   ]
  },
  {
   "cell_type": "code",
   "execution_count": 30,
   "id": "68be19cc",
   "metadata": {},
   "outputs": [
    {
     "data": {
      "image/png": "[encoded data removed]",
      "text/plain": [
       "<Figure size 800x800 with 1 Axes>"
      ]
     },
     "metadata": {},
     "output_type": "display_data"
    }
   ],
   "source": [
    "plot_pie_sentiment(cnbc_df, 'CNBC')"
   ]
  },
  {
   "cell_type": "code",
   "execution_count": 31,
   "id": "6d467a2a",
   "metadata": {},
   "outputs": [
    {
     "data": {
      "image/png": "[encoded data removed]",
      "text/plain": [
       "<Figure size 800x800 with 1 Axes>"
      ]
     },
     "metadata": {},
     "output_type": "display_data"
    }
   ],
   "source": [
    "plot_pie_sentiment(guardian_df, 'Guardian')"
   ]
  },
  {
   "cell_type": "code",
   "execution_count": 32,
   "id": "677997e5",
   "metadata": {},
   "outputs": [
    {
     "data": {
      "image/png": "[encoded data removed]",
      "text/plain": [
       "<Figure size 800x800 with 1 Axes>"
      ]
     },
     "metadata": {},
     "output_type": "display_data"
    }
   ],
   "source": [
    "plot_pie_sentiment(reuters_df, 'Reuters')"
   ]
  },
  {
   "cell_type": "code",
   "execution_count": 33,
   "id": "639c1af2",
   "metadata": {},
   "outputs": [],
   "source": [
    "cnbc_df.to_csv(r\"C:\\sparkcourse\\cnbc_sentiment.csv\")\n",
    "guardian_df.to_csv(r\"C:\\sparkcourse\\guardian_sentiment.csv\")\n",
    "reuters_df.to_csv(r\"C:\\sparkcourse\\reuters_sentiment.csv\")"
   ]
  },
  {
   "cell_type": "code",
   "execution_count": null,
   "id": "d4a44bff",
   "metadata": {},
   "outputs": [],
   "source": []
  }
 ],
 "metadata": {
  "kernelspec": {
   "display_name": "Python 3 (ipykernel)",
   "language": "python",
   "name": "python3"
  },
  "language_info": {
   "codemirror_mode": {
    "name": "ipython",
    "version": 3
   },
   "file_extension": ".py",
   "mimetype": "text/x-python",
   "name": "python",
   "nbconvert_exporter": "python",
   "pygments_lexer": "ipython3",
   "version": "3.11.5"
  }
 },
 "nbformat": 4,
 "nbformat_minor": 5
}
